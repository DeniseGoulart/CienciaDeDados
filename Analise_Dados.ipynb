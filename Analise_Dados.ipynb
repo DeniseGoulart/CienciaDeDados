{
  "nbformat": 4,
  "nbformat_minor": 0,
  "metadata": {
    "colab": {
      "provenance": [],
      "collapsed_sections": [],
      "authorship_tag": "ABX9TyOF6eMrxx38dRZBBOf10EwK",
      "include_colab_link": true
    },
    "kernelspec": {
      "name": "python3",
      "display_name": "Python 3"
    },
    "language_info": {
      "name": "python"
    }
  },
  "cells": [
    {
      "cell_type": "markdown",
      "metadata": {
        "id": "view-in-github",
        "colab_type": "text"
      },
      "source": [
        "<a href=\"https://colab.research.google.com/github/DeniseGoulart/CienciaDeDados/blob/main/Analise_Dados.ipynb\" target=\"_parent\"><img src=\"https://colab.research.google.com/assets/colab-badge.svg\" alt=\"Open In Colab\"/></a>"
      ]
    },
    {
      "cell_type": "code",
      "execution_count": 11,
      "metadata": {
        "id": "ty1GCrl47LYy"
      },
      "outputs": [],
      "source": [
        "#Importando as bibliotecas\n",
        "import pandas as pd\n",
        "import matplotlib.pyplot as plt\n",
        "import numpy as np\n",
        "plt.style.use(\"fivethirtyeight\")"
      ]
    },
    {
      "cell_type": "code",
      "source": [
        "#Criando o Data Frame - este arquivo é um controle de notas dos alunos em um ano letivo. O Upload foi feito pelo menu do colab\n",
        "df = pd.read_excel(\"ControleAlunos.xlsx\")"
      ],
      "metadata": {
        "id": "lNU_wFNi8ysR"
      },
      "execution_count": 12,
      "outputs": []
    },
    {
      "cell_type": "code",
      "source": [
        "#Visualizando as 5 primeiras linhas\n",
        "df.head()"
      ],
      "metadata": {
        "colab": {
          "base_uri": "https://localhost:8080/",
          "height": 206
        },
        "id": "3P3NuTHs-WeH",
        "outputId": "62081be3-afa7-41ac-ab23-7f0cf216ad79"
      },
      "execution_count": 13,
      "outputs": [
        {
          "output_type": "execute_result",
          "data": {
            "text/plain": [
              "   Codigo Aluno          Nome Data de Nascimento  Ano Escolar  Total Etapa 1  \\\n",
              "0             1       Alisson         2010-03-05            8            4.0   \n",
              "1             2  Ana Carolina         2009-08-12            8           17.8   \n",
              "2             3         Bruno         2009-12-24            8            1.6   \n",
              "3             4        Daniel         2010-01-07            8           13.8   \n",
              "4             5      G.Mamede         2008-05-02            8           29.5   \n",
              "\n",
              "   Total Etapa 2  Total Etapa 3  \n",
              "0           25.7           24.1  \n",
              "1           29.6           25.9  \n",
              "2           10.6           17.3  \n",
              "3           13.9            5.3  \n",
              "4           27.0           31.9  "
            ],
            "text/html": [
              "\n",
              "  <div id=\"df-13c609c6-e5e0-40f8-ac23-2eceaaa48ae5\">\n",
              "    <div class=\"colab-df-container\">\n",
              "      <div>\n",
              "<style scoped>\n",
              "    .dataframe tbody tr th:only-of-type {\n",
              "        vertical-align: middle;\n",
              "    }\n",
              "\n",
              "    .dataframe tbody tr th {\n",
              "        vertical-align: top;\n",
              "    }\n",
              "\n",
              "    .dataframe thead th {\n",
              "        text-align: right;\n",
              "    }\n",
              "</style>\n",
              "<table border=\"1\" class=\"dataframe\">\n",
              "  <thead>\n",
              "    <tr style=\"text-align: right;\">\n",
              "      <th></th>\n",
              "      <th>Codigo Aluno</th>\n",
              "      <th>Nome</th>\n",
              "      <th>Data de Nascimento</th>\n",
              "      <th>Ano Escolar</th>\n",
              "      <th>Total Etapa 1</th>\n",
              "      <th>Total Etapa 2</th>\n",
              "      <th>Total Etapa 3</th>\n",
              "    </tr>\n",
              "  </thead>\n",
              "  <tbody>\n",
              "    <tr>\n",
              "      <th>0</th>\n",
              "      <td>1</td>\n",
              "      <td>Alisson</td>\n",
              "      <td>2010-03-05</td>\n",
              "      <td>8</td>\n",
              "      <td>4.0</td>\n",
              "      <td>25.7</td>\n",
              "      <td>24.1</td>\n",
              "    </tr>\n",
              "    <tr>\n",
              "      <th>1</th>\n",
              "      <td>2</td>\n",
              "      <td>Ana Carolina</td>\n",
              "      <td>2009-08-12</td>\n",
              "      <td>8</td>\n",
              "      <td>17.8</td>\n",
              "      <td>29.6</td>\n",
              "      <td>25.9</td>\n",
              "    </tr>\n",
              "    <tr>\n",
              "      <th>2</th>\n",
              "      <td>3</td>\n",
              "      <td>Bruno</td>\n",
              "      <td>2009-12-24</td>\n",
              "      <td>8</td>\n",
              "      <td>1.6</td>\n",
              "      <td>10.6</td>\n",
              "      <td>17.3</td>\n",
              "    </tr>\n",
              "    <tr>\n",
              "      <th>3</th>\n",
              "      <td>4</td>\n",
              "      <td>Daniel</td>\n",
              "      <td>2010-01-07</td>\n",
              "      <td>8</td>\n",
              "      <td>13.8</td>\n",
              "      <td>13.9</td>\n",
              "      <td>5.3</td>\n",
              "    </tr>\n",
              "    <tr>\n",
              "      <th>4</th>\n",
              "      <td>5</td>\n",
              "      <td>G.Mamede</td>\n",
              "      <td>2008-05-02</td>\n",
              "      <td>8</td>\n",
              "      <td>29.5</td>\n",
              "      <td>27.0</td>\n",
              "      <td>31.9</td>\n",
              "    </tr>\n",
              "  </tbody>\n",
              "</table>\n",
              "</div>\n",
              "      <button class=\"colab-df-convert\" onclick=\"convertToInteractive('df-13c609c6-e5e0-40f8-ac23-2eceaaa48ae5')\"\n",
              "              title=\"Convert this dataframe to an interactive table.\"\n",
              "              style=\"display:none;\">\n",
              "        \n",
              "  <svg xmlns=\"http://www.w3.org/2000/svg\" height=\"24px\"viewBox=\"0 0 24 24\"\n",
              "       width=\"24px\">\n",
              "    <path d=\"M0 0h24v24H0V0z\" fill=\"none\"/>\n",
              "    <path d=\"M18.56 5.44l.94 2.06.94-2.06 2.06-.94-2.06-.94-.94-2.06-.94 2.06-2.06.94zm-11 1L8.5 8.5l.94-2.06 2.06-.94-2.06-.94L8.5 2.5l-.94 2.06-2.06.94zm10 10l.94 2.06.94-2.06 2.06-.94-2.06-.94-.94-2.06-.94 2.06-2.06.94z\"/><path d=\"M17.41 7.96l-1.37-1.37c-.4-.4-.92-.59-1.43-.59-.52 0-1.04.2-1.43.59L10.3 9.45l-7.72 7.72c-.78.78-.78 2.05 0 2.83L4 21.41c.39.39.9.59 1.41.59.51 0 1.02-.2 1.41-.59l7.78-7.78 2.81-2.81c.8-.78.8-2.07 0-2.86zM5.41 20L4 18.59l7.72-7.72 1.47 1.35L5.41 20z\"/>\n",
              "  </svg>\n",
              "      </button>\n",
              "      \n",
              "  <style>\n",
              "    .colab-df-container {\n",
              "      display:flex;\n",
              "      flex-wrap:wrap;\n",
              "      gap: 12px;\n",
              "    }\n",
              "\n",
              "    .colab-df-convert {\n",
              "      background-color: #E8F0FE;\n",
              "      border: none;\n",
              "      border-radius: 50%;\n",
              "      cursor: pointer;\n",
              "      display: none;\n",
              "      fill: #1967D2;\n",
              "      height: 32px;\n",
              "      padding: 0 0 0 0;\n",
              "      width: 32px;\n",
              "    }\n",
              "\n",
              "    .colab-df-convert:hover {\n",
              "      background-color: #E2EBFA;\n",
              "      box-shadow: 0px 1px 2px rgba(60, 64, 67, 0.3), 0px 1px 3px 1px rgba(60, 64, 67, 0.15);\n",
              "      fill: #174EA6;\n",
              "    }\n",
              "\n",
              "    [theme=dark] .colab-df-convert {\n",
              "      background-color: #3B4455;\n",
              "      fill: #D2E3FC;\n",
              "    }\n",
              "\n",
              "    [theme=dark] .colab-df-convert:hover {\n",
              "      background-color: #434B5C;\n",
              "      box-shadow: 0px 1px 3px 1px rgba(0, 0, 0, 0.15);\n",
              "      filter: drop-shadow(0px 1px 2px rgba(0, 0, 0, 0.3));\n",
              "      fill: #FFFFFF;\n",
              "    }\n",
              "  </style>\n",
              "\n",
              "      <script>\n",
              "        const buttonEl =\n",
              "          document.querySelector('#df-13c609c6-e5e0-40f8-ac23-2eceaaa48ae5 button.colab-df-convert');\n",
              "        buttonEl.style.display =\n",
              "          google.colab.kernel.accessAllowed ? 'block' : 'none';\n",
              "\n",
              "        async function convertToInteractive(key) {\n",
              "          const element = document.querySelector('#df-13c609c6-e5e0-40f8-ac23-2eceaaa48ae5');\n",
              "          const dataTable =\n",
              "            await google.colab.kernel.invokeFunction('convertToInteractive',\n",
              "                                                     [key], {});\n",
              "          if (!dataTable) return;\n",
              "\n",
              "          const docLinkHtml = 'Like what you see? Visit the ' +\n",
              "            '<a target=\"_blank\" href=https://colab.research.google.com/notebooks/data_table.ipynb>data table notebook</a>'\n",
              "            + ' to learn more about interactive tables.';\n",
              "          element.innerHTML = '';\n",
              "          dataTable['output_type'] = 'display_data';\n",
              "          await google.colab.output.renderOutput(dataTable, element);\n",
              "          const docLink = document.createElement('div');\n",
              "          docLink.innerHTML = docLinkHtml;\n",
              "          element.appendChild(docLink);\n",
              "        }\n",
              "      </script>\n",
              "    </div>\n",
              "  </div>\n",
              "  "
            ]
          },
          "metadata": {},
          "execution_count": 13
        }
      ]
    },
    {
      "cell_type": "code",
      "source": [
        "#Verificando a quantidade de linhas e colunas\n",
        "df.shape"
      ],
      "metadata": {
        "colab": {
          "base_uri": "https://localhost:8080/"
        },
        "id": "8cbSQUe4-a_r",
        "outputId": "cbec62b0-c3f2-436c-a7fe-a6da73e75138"
      },
      "execution_count": 14,
      "outputs": [
        {
          "output_type": "execute_result",
          "data": {
            "text/plain": [
              "(63, 7)"
            ]
          },
          "metadata": {},
          "execution_count": 14
        }
      ]
    },
    {
      "cell_type": "code",
      "source": [
        "#Verificando os tipos de dados em cada coluna\n",
        "df.dtypes"
      ],
      "metadata": {
        "colab": {
          "base_uri": "https://localhost:8080/"
        },
        "id": "Tv2c70lZ-70f",
        "outputId": "b53e4c5e-9bf5-4cd3-a183-e6aa5de5720b"
      },
      "execution_count": 15,
      "outputs": [
        {
          "output_type": "execute_result",
          "data": {
            "text/plain": [
              "Codigo Aluno                   int64\n",
              "Nome                          object\n",
              "Data de Nascimento    datetime64[ns]\n",
              "Ano Escolar                    int64\n",
              "Total Etapa 1                float64\n",
              "Total Etapa 2                float64\n",
              "Total Etapa 3                float64\n",
              "dtype: object"
            ]
          },
          "metadata": {},
          "execution_count": 15
        }
      ]
    },
    {
      "cell_type": "code",
      "source": [
        "#Qual a nota total de cada aluno no ano letivo proposto?\n",
        "df[\"Nota Total\"] = df[\"Total Etapa 1\"] + df[\"Total Etapa 2\"] + df[\"Total Etapa 3\"]"
      ],
      "metadata": {
        "id": "uKkRVIU4_ELi"
      },
      "execution_count": 16,
      "outputs": []
    },
    {
      "cell_type": "code",
      "source": [
        "#Lendo a primeira linha para conferir a nova aluna Nota Total\n",
        "df.head(1)"
      ],
      "metadata": {
        "colab": {
          "base_uri": "https://localhost:8080/",
          "height": 81
        },
        "id": "9kveFUqX_fRj",
        "outputId": "fc5bbae1-f67e-4303-ff09-cedae0815a37"
      },
      "execution_count": 17,
      "outputs": [
        {
          "output_type": "execute_result",
          "data": {
            "text/plain": [
              "   Codigo Aluno     Nome Data de Nascimento  Ano Escolar  Total Etapa 1  \\\n",
              "0             1  Alisson         2010-03-05            8            4.0   \n",
              "\n",
              "   Total Etapa 2  Total Etapa 3  Nota Total  \n",
              "0           25.7           24.1        53.8  "
            ],
            "text/html": [
              "\n",
              "  <div id=\"df-13060582-155a-497e-96fc-a1fd03a53723\">\n",
              "    <div class=\"colab-df-container\">\n",
              "      <div>\n",
              "<style scoped>\n",
              "    .dataframe tbody tr th:only-of-type {\n",
              "        vertical-align: middle;\n",
              "    }\n",
              "\n",
              "    .dataframe tbody tr th {\n",
              "        vertical-align: top;\n",
              "    }\n",
              "\n",
              "    .dataframe thead th {\n",
              "        text-align: right;\n",
              "    }\n",
              "</style>\n",
              "<table border=\"1\" class=\"dataframe\">\n",
              "  <thead>\n",
              "    <tr style=\"text-align: right;\">\n",
              "      <th></th>\n",
              "      <th>Codigo Aluno</th>\n",
              "      <th>Nome</th>\n",
              "      <th>Data de Nascimento</th>\n",
              "      <th>Ano Escolar</th>\n",
              "      <th>Total Etapa 1</th>\n",
              "      <th>Total Etapa 2</th>\n",
              "      <th>Total Etapa 3</th>\n",
              "      <th>Nota Total</th>\n",
              "    </tr>\n",
              "  </thead>\n",
              "  <tbody>\n",
              "    <tr>\n",
              "      <th>0</th>\n",
              "      <td>1</td>\n",
              "      <td>Alisson</td>\n",
              "      <td>2010-03-05</td>\n",
              "      <td>8</td>\n",
              "      <td>4.0</td>\n",
              "      <td>25.7</td>\n",
              "      <td>24.1</td>\n",
              "      <td>53.8</td>\n",
              "    </tr>\n",
              "  </tbody>\n",
              "</table>\n",
              "</div>\n",
              "      <button class=\"colab-df-convert\" onclick=\"convertToInteractive('df-13060582-155a-497e-96fc-a1fd03a53723')\"\n",
              "              title=\"Convert this dataframe to an interactive table.\"\n",
              "              style=\"display:none;\">\n",
              "        \n",
              "  <svg xmlns=\"http://www.w3.org/2000/svg\" height=\"24px\"viewBox=\"0 0 24 24\"\n",
              "       width=\"24px\">\n",
              "    <path d=\"M0 0h24v24H0V0z\" fill=\"none\"/>\n",
              "    <path d=\"M18.56 5.44l.94 2.06.94-2.06 2.06-.94-2.06-.94-.94-2.06-.94 2.06-2.06.94zm-11 1L8.5 8.5l.94-2.06 2.06-.94-2.06-.94L8.5 2.5l-.94 2.06-2.06.94zm10 10l.94 2.06.94-2.06 2.06-.94-2.06-.94-.94-2.06-.94 2.06-2.06.94z\"/><path d=\"M17.41 7.96l-1.37-1.37c-.4-.4-.92-.59-1.43-.59-.52 0-1.04.2-1.43.59L10.3 9.45l-7.72 7.72c-.78.78-.78 2.05 0 2.83L4 21.41c.39.39.9.59 1.41.59.51 0 1.02-.2 1.41-.59l7.78-7.78 2.81-2.81c.8-.78.8-2.07 0-2.86zM5.41 20L4 18.59l7.72-7.72 1.47 1.35L5.41 20z\"/>\n",
              "  </svg>\n",
              "      </button>\n",
              "      \n",
              "  <style>\n",
              "    .colab-df-container {\n",
              "      display:flex;\n",
              "      flex-wrap:wrap;\n",
              "      gap: 12px;\n",
              "    }\n",
              "\n",
              "    .colab-df-convert {\n",
              "      background-color: #E8F0FE;\n",
              "      border: none;\n",
              "      border-radius: 50%;\n",
              "      cursor: pointer;\n",
              "      display: none;\n",
              "      fill: #1967D2;\n",
              "      height: 32px;\n",
              "      padding: 0 0 0 0;\n",
              "      width: 32px;\n",
              "    }\n",
              "\n",
              "    .colab-df-convert:hover {\n",
              "      background-color: #E2EBFA;\n",
              "      box-shadow: 0px 1px 2px rgba(60, 64, 67, 0.3), 0px 1px 3px 1px rgba(60, 64, 67, 0.15);\n",
              "      fill: #174EA6;\n",
              "    }\n",
              "\n",
              "    [theme=dark] .colab-df-convert {\n",
              "      background-color: #3B4455;\n",
              "      fill: #D2E3FC;\n",
              "    }\n",
              "\n",
              "    [theme=dark] .colab-df-convert:hover {\n",
              "      background-color: #434B5C;\n",
              "      box-shadow: 0px 1px 3px 1px rgba(0, 0, 0, 0.15);\n",
              "      filter: drop-shadow(0px 1px 2px rgba(0, 0, 0, 0.3));\n",
              "      fill: #FFFFFF;\n",
              "    }\n",
              "  </style>\n",
              "\n",
              "      <script>\n",
              "        const buttonEl =\n",
              "          document.querySelector('#df-13060582-155a-497e-96fc-a1fd03a53723 button.colab-df-convert');\n",
              "        buttonEl.style.display =\n",
              "          google.colab.kernel.accessAllowed ? 'block' : 'none';\n",
              "\n",
              "        async function convertToInteractive(key) {\n",
              "          const element = document.querySelector('#df-13060582-155a-497e-96fc-a1fd03a53723');\n",
              "          const dataTable =\n",
              "            await google.colab.kernel.invokeFunction('convertToInteractive',\n",
              "                                                     [key], {});\n",
              "          if (!dataTable) return;\n",
              "\n",
              "          const docLinkHtml = 'Like what you see? Visit the ' +\n",
              "            '<a target=\"_blank\" href=https://colab.research.google.com/notebooks/data_table.ipynb>data table notebook</a>'\n",
              "            + ' to learn more about interactive tables.';\n",
              "          element.innerHTML = '';\n",
              "          dataTable['output_type'] = 'display_data';\n",
              "          await google.colab.output.renderOutput(dataTable, element);\n",
              "          const docLink = document.createElement('div');\n",
              "          docLink.innerHTML = docLinkHtml;\n",
              "          element.appendChild(docLink);\n",
              "        }\n",
              "      </script>\n",
              "    </div>\n",
              "  </div>\n",
              "  "
            ]
          },
          "metadata": {},
          "execution_count": 17
        }
      ]
    },
    {
      "cell_type": "code",
      "source": [
        "#Criando nova coluna com o status do aluno: aprovado (se ficou com mais do que 60) ou reprovado (se ficou com menos de 60)\n",
        "df[\"Status do Aluno\"] = np.where(df[\"Nota Total\"]<60, \"Reprovado\", \"Aprovado\")"
      ],
      "metadata": {
        "id": "MlWUZ84G_g8h"
      },
      "execution_count": 18,
      "outputs": []
    },
    {
      "cell_type": "code",
      "source": [
        "#Conferindo a criação da coluna Status do Aluno nas 5 primeiras linhas\n",
        "df.head()"
      ],
      "metadata": {
        "colab": {
          "base_uri": "https://localhost:8080/",
          "height": 206
        },
        "id": "TtjmLtfCB503",
        "outputId": "62802bc5-172b-4793-da2f-2822cd961351"
      },
      "execution_count": 19,
      "outputs": [
        {
          "output_type": "execute_result",
          "data": {
            "text/plain": [
              "   Codigo Aluno          Nome Data de Nascimento  Ano Escolar  Total Etapa 1  \\\n",
              "0             1       Alisson         2010-03-05            8            4.0   \n",
              "1             2  Ana Carolina         2009-08-12            8           17.8   \n",
              "2             3         Bruno         2009-12-24            8            1.6   \n",
              "3             4        Daniel         2010-01-07            8           13.8   \n",
              "4             5      G.Mamede         2008-05-02            8           29.5   \n",
              "\n",
              "   Total Etapa 2  Total Etapa 3  Nota Total Status do Aluno  \n",
              "0           25.7           24.1        53.8       Reprovado  \n",
              "1           29.6           25.9        73.3        Aprovado  \n",
              "2           10.6           17.3        29.5       Reprovado  \n",
              "3           13.9            5.3        33.0       Reprovado  \n",
              "4           27.0           31.9        88.4        Aprovado  "
            ],
            "text/html": [
              "\n",
              "  <div id=\"df-13837c92-ebc6-4311-a22b-c1558d7f6aae\">\n",
              "    <div class=\"colab-df-container\">\n",
              "      <div>\n",
              "<style scoped>\n",
              "    .dataframe tbody tr th:only-of-type {\n",
              "        vertical-align: middle;\n",
              "    }\n",
              "\n",
              "    .dataframe tbody tr th {\n",
              "        vertical-align: top;\n",
              "    }\n",
              "\n",
              "    .dataframe thead th {\n",
              "        text-align: right;\n",
              "    }\n",
              "</style>\n",
              "<table border=\"1\" class=\"dataframe\">\n",
              "  <thead>\n",
              "    <tr style=\"text-align: right;\">\n",
              "      <th></th>\n",
              "      <th>Codigo Aluno</th>\n",
              "      <th>Nome</th>\n",
              "      <th>Data de Nascimento</th>\n",
              "      <th>Ano Escolar</th>\n",
              "      <th>Total Etapa 1</th>\n",
              "      <th>Total Etapa 2</th>\n",
              "      <th>Total Etapa 3</th>\n",
              "      <th>Nota Total</th>\n",
              "      <th>Status do Aluno</th>\n",
              "    </tr>\n",
              "  </thead>\n",
              "  <tbody>\n",
              "    <tr>\n",
              "      <th>0</th>\n",
              "      <td>1</td>\n",
              "      <td>Alisson</td>\n",
              "      <td>2010-03-05</td>\n",
              "      <td>8</td>\n",
              "      <td>4.0</td>\n",
              "      <td>25.7</td>\n",
              "      <td>24.1</td>\n",
              "      <td>53.8</td>\n",
              "      <td>Reprovado</td>\n",
              "    </tr>\n",
              "    <tr>\n",
              "      <th>1</th>\n",
              "      <td>2</td>\n",
              "      <td>Ana Carolina</td>\n",
              "      <td>2009-08-12</td>\n",
              "      <td>8</td>\n",
              "      <td>17.8</td>\n",
              "      <td>29.6</td>\n",
              "      <td>25.9</td>\n",
              "      <td>73.3</td>\n",
              "      <td>Aprovado</td>\n",
              "    </tr>\n",
              "    <tr>\n",
              "      <th>2</th>\n",
              "      <td>3</td>\n",
              "      <td>Bruno</td>\n",
              "      <td>2009-12-24</td>\n",
              "      <td>8</td>\n",
              "      <td>1.6</td>\n",
              "      <td>10.6</td>\n",
              "      <td>17.3</td>\n",
              "      <td>29.5</td>\n",
              "      <td>Reprovado</td>\n",
              "    </tr>\n",
              "    <tr>\n",
              "      <th>3</th>\n",
              "      <td>4</td>\n",
              "      <td>Daniel</td>\n",
              "      <td>2010-01-07</td>\n",
              "      <td>8</td>\n",
              "      <td>13.8</td>\n",
              "      <td>13.9</td>\n",
              "      <td>5.3</td>\n",
              "      <td>33.0</td>\n",
              "      <td>Reprovado</td>\n",
              "    </tr>\n",
              "    <tr>\n",
              "      <th>4</th>\n",
              "      <td>5</td>\n",
              "      <td>G.Mamede</td>\n",
              "      <td>2008-05-02</td>\n",
              "      <td>8</td>\n",
              "      <td>29.5</td>\n",
              "      <td>27.0</td>\n",
              "      <td>31.9</td>\n",
              "      <td>88.4</td>\n",
              "      <td>Aprovado</td>\n",
              "    </tr>\n",
              "  </tbody>\n",
              "</table>\n",
              "</div>\n",
              "      <button class=\"colab-df-convert\" onclick=\"convertToInteractive('df-13837c92-ebc6-4311-a22b-c1558d7f6aae')\"\n",
              "              title=\"Convert this dataframe to an interactive table.\"\n",
              "              style=\"display:none;\">\n",
              "        \n",
              "  <svg xmlns=\"http://www.w3.org/2000/svg\" height=\"24px\"viewBox=\"0 0 24 24\"\n",
              "       width=\"24px\">\n",
              "    <path d=\"M0 0h24v24H0V0z\" fill=\"none\"/>\n",
              "    <path d=\"M18.56 5.44l.94 2.06.94-2.06 2.06-.94-2.06-.94-.94-2.06-.94 2.06-2.06.94zm-11 1L8.5 8.5l.94-2.06 2.06-.94-2.06-.94L8.5 2.5l-.94 2.06-2.06.94zm10 10l.94 2.06.94-2.06 2.06-.94-2.06-.94-.94-2.06-.94 2.06-2.06.94z\"/><path d=\"M17.41 7.96l-1.37-1.37c-.4-.4-.92-.59-1.43-.59-.52 0-1.04.2-1.43.59L10.3 9.45l-7.72 7.72c-.78.78-.78 2.05 0 2.83L4 21.41c.39.39.9.59 1.41.59.51 0 1.02-.2 1.41-.59l7.78-7.78 2.81-2.81c.8-.78.8-2.07 0-2.86zM5.41 20L4 18.59l7.72-7.72 1.47 1.35L5.41 20z\"/>\n",
              "  </svg>\n",
              "      </button>\n",
              "      \n",
              "  <style>\n",
              "    .colab-df-container {\n",
              "      display:flex;\n",
              "      flex-wrap:wrap;\n",
              "      gap: 12px;\n",
              "    }\n",
              "\n",
              "    .colab-df-convert {\n",
              "      background-color: #E8F0FE;\n",
              "      border: none;\n",
              "      border-radius: 50%;\n",
              "      cursor: pointer;\n",
              "      display: none;\n",
              "      fill: #1967D2;\n",
              "      height: 32px;\n",
              "      padding: 0 0 0 0;\n",
              "      width: 32px;\n",
              "    }\n",
              "\n",
              "    .colab-df-convert:hover {\n",
              "      background-color: #E2EBFA;\n",
              "      box-shadow: 0px 1px 2px rgba(60, 64, 67, 0.3), 0px 1px 3px 1px rgba(60, 64, 67, 0.15);\n",
              "      fill: #174EA6;\n",
              "    }\n",
              "\n",
              "    [theme=dark] .colab-df-convert {\n",
              "      background-color: #3B4455;\n",
              "      fill: #D2E3FC;\n",
              "    }\n",
              "\n",
              "    [theme=dark] .colab-df-convert:hover {\n",
              "      background-color: #434B5C;\n",
              "      box-shadow: 0px 1px 3px 1px rgba(0, 0, 0, 0.15);\n",
              "      filter: drop-shadow(0px 1px 2px rgba(0, 0, 0, 0.3));\n",
              "      fill: #FFFFFF;\n",
              "    }\n",
              "  </style>\n",
              "\n",
              "      <script>\n",
              "        const buttonEl =\n",
              "          document.querySelector('#df-13837c92-ebc6-4311-a22b-c1558d7f6aae button.colab-df-convert');\n",
              "        buttonEl.style.display =\n",
              "          google.colab.kernel.accessAllowed ? 'block' : 'none';\n",
              "\n",
              "        async function convertToInteractive(key) {\n",
              "          const element = document.querySelector('#df-13837c92-ebc6-4311-a22b-c1558d7f6aae');\n",
              "          const dataTable =\n",
              "            await google.colab.kernel.invokeFunction('convertToInteractive',\n",
              "                                                     [key], {});\n",
              "          if (!dataTable) return;\n",
              "\n",
              "          const docLinkHtml = 'Like what you see? Visit the ' +\n",
              "            '<a target=\"_blank\" href=https://colab.research.google.com/notebooks/data_table.ipynb>data table notebook</a>'\n",
              "            + ' to learn more about interactive tables.';\n",
              "          element.innerHTML = '';\n",
              "          dataTable['output_type'] = 'display_data';\n",
              "          await google.colab.output.renderOutput(dataTable, element);\n",
              "          const docLink = document.createElement('div');\n",
              "          docLink.innerHTML = docLinkHtml;\n",
              "          element.appendChild(docLink);\n",
              "        }\n",
              "      </script>\n",
              "    </div>\n",
              "  </div>\n",
              "  "
            ]
          },
          "metadata": {},
          "execution_count": 19
        }
      ]
    },
    {
      "cell_type": "code",
      "source": [
        "#Calculando a média de notas de todos os alunos\n",
        "round(df[\"Nota Total\"].mean(), 2)"
      ],
      "metadata": {
        "colab": {
          "base_uri": "https://localhost:8080/"
        },
        "id": "ApTohPYOCAj9",
        "outputId": "bb99b2ac-cea1-4b68-98c1-d11d7c207651"
      },
      "execution_count": 23,
      "outputs": [
        {
          "output_type": "execute_result",
          "data": {
            "text/plain": [
              "48.7"
            ]
          },
          "metadata": {},
          "execution_count": 23
        }
      ]
    },
    {
      "cell_type": "code",
      "source": [
        "#Mostrando a quantidade de alunos aprovados e reprovados por ano\n",
        "df.groupby(\"Ano Escolar\")[\"Status do Aluno\"].value_counts()"
      ],
      "metadata": {
        "colab": {
          "base_uri": "https://localhost:8080/"
        },
        "id": "XUOvVRXtGfl_",
        "outputId": "405f5f5e-2825-4b68-89ff-834d12fbae1e"
      },
      "execution_count": 41,
      "outputs": [
        {
          "output_type": "execute_result",
          "data": {
            "text/plain": [
              "Ano Escolar  Status do Aluno\n",
              "6            Reprovado          14\n",
              "             Aprovado            5\n",
              "7            Reprovado          13\n",
              "             Aprovado            5\n",
              "8            Reprovado           9\n",
              "             Aprovado            7\n",
              "9            Reprovado           9\n",
              "             Aprovado            1\n",
              "Name: Status do Aluno, dtype: int64"
            ]
          },
          "metadata": {},
          "execution_count": 41
        }
      ]
    },
    {
      "cell_type": "code",
      "source": [
        "#Gráfico que mostra Status X Ano\n",
        "df.groupby(\"Ano Escolar\")[\"Status do Aluno\"].value_counts().plot.bar(title = \"Status x Ano\")\n",
        "plt.xlabel(\"Ano Escolar\")\n",
        "plt.ylabel(\"Status\");"
      ],
      "metadata": {
        "colab": {
          "base_uri": "https://localhost:8080/",
          "height": 414
        },
        "id": "4fiUvu2-Iz0G",
        "outputId": "1b4201cf-840c-401b-a161-c2d04b07c80e"
      },
      "execution_count": 45,
      "outputs": [
        {
          "output_type": "display_data",
          "data": {
            "text/plain": [
              "<Figure size 432x288 with 1 Axes>"
            ],
            "image/png": "[encoded data removed]"
          },
          "metadata": {}
        }
      ]
    },
    {
      "cell_type": "code",
      "source": [
        "#Análises estatísticas das notas finais dos alunos\n",
        "df[\"Nota Total\"].describe()"
      ],
      "metadata": {
        "colab": {
          "base_uri": "https://localhost:8080/"
        },
        "id": "Qg7mTdllJlFT",
        "outputId": "8ceb9f66-2d8b-45f1-fed8-45dc7240b37d"
      },
      "execution_count": 47,
      "outputs": [
        {
          "output_type": "execute_result",
          "data": {
            "text/plain": [
              "count    63.000000\n",
              "mean     48.704762\n",
              "std      18.673273\n",
              "min       7.700000\n",
              "25%      34.100000\n",
              "50%      50.800000\n",
              "75%      62.250000\n",
              "max      91.500000\n",
              "Name: Nota Total, dtype: float64"
            ]
          },
          "metadata": {},
          "execution_count": 47
        }
      ]
    },
    {
      "cell_type": "code",
      "source": [
        "#Plotando esses dados acima em um BoxPlot\n",
        "plt.boxplot(df[\"Nota Total\"]);"
      ],
      "metadata": {
        "colab": {
          "base_uri": "https://localhost:8080/",
          "height": 282
        },
        "id": "YRb_Dx5UKT1t",
        "outputId": "e20f2325-1e19-4ad3-83d1-831398c5aa9f"
      },
      "execution_count": 49,
      "outputs": [
        {
          "output_type": "display_data",
          "data": {
            "text/plain": [
              "<Figure size 432x288 with 1 Axes>"
            ],
            "image/png": "[encoded data removed]"
          },
          "metadata": {}
        }
      ]
    },
    {
      "cell_type": "code",
      "source": [
        "#Agrupando, por ano de nascimento, os aprovados e reprovados\n",
        "df.groupby(df[\"Data de Nascimento\"].dt.year)[\"Status do Aluno\"].value_counts()"
      ],
      "metadata": {
        "colab": {
          "base_uri": "https://localhost:8080/"
        },
        "id": "vjjL_6_6Kppc",
        "outputId": "7d7e0483-c09c-4cd6-daea-60fbac522886"
      },
      "execution_count": 50,
      "outputs": [
        {
          "output_type": "execute_result",
          "data": {
            "text/plain": [
              "Data de Nascimento  Status do Aluno\n",
              "2007                Reprovado           2\n",
              "2008                Reprovado           6\n",
              "                    Aprovado            1\n",
              "2009                Reprovado           9\n",
              "                    Aprovado            8\n",
              "2010                Reprovado          11\n",
              "                    Aprovado            3\n",
              "2011                Reprovado          12\n",
              "                    Aprovado            5\n",
              "2012                Reprovado           5\n",
              "                    Aprovado            1\n",
              "Name: Status do Aluno, dtype: int64"
            ]
          },
          "metadata": {},
          "execution_count": 50
        }
      ]
    },
    {
      "cell_type": "code",
      "source": [
        "#Gráfico de barras horizontai\n",
        "df.groupby(df[\"Data de Nascimento\"].dt.year)[\"Status do Aluno\"].value_counts().plot.barh(title = \"Status por Ano\")\n",
        "plt.xlabel(\"Quantidade\")\n",
        "plt.ylabel(\"Status\");"
      ],
      "metadata": {
        "colab": {
          "base_uri": "https://localhost:8080/",
          "height": 325
        },
        "id": "qv3eCxOqNO0u",
        "outputId": "74fdbccd-68c5-4fbf-c58f-5d7965c83494"
      },
      "execution_count": 58,
      "outputs": [
        {
          "output_type": "display_data",
          "data": {
            "text/plain": [
              "<Figure size 432x288 with 1 Axes>"
            ],
            "image/png": "[encoded data removed]"
          },
          "metadata": {}
        }
      ]
    },
    {
      "cell_type": "code",
      "source": [
        "#Transformando a base de dados trabalhada em um novo arquivo csv\n",
        "df.to_csv(\"df_controle_alunos_novo.csv\", index=False)"
      ],
      "metadata": {
        "id": "9k7hw4rtNljU"
      },
      "execution_count": 60,
      "outputs": []
    }
  ]
}